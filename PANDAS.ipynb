{
 "cells": [
  {
   "cell_type": "markdown",
   "metadata": {},
   "source": [
    "# PANDAS OBJECT 1"
   ]
  },
  {
   "cell_type": "code",
   "execution_count": 2,
   "metadata": {},
   "outputs": [],
   "source": [
    "import pandas as pd"
   ]
  },
  {
   "cell_type": "code",
   "execution_count": 3,
   "metadata": {},
   "outputs": [],
   "source": [
    "a=pd.Series([4,7,-5,3])"
   ]
  },
  {
   "cell_type": "code",
   "execution_count": 4,
   "metadata": {},
   "outputs": [
    {
     "data": {
      "text/plain": [
       "0    4\n",
       "1    7\n",
       "2   -5\n",
       "3    3\n",
       "dtype: int64"
      ]
     },
     "execution_count": 4,
     "metadata": {},
     "output_type": "execute_result"
    }
   ],
   "source": [
    "a"
   ]
  },
  {
   "cell_type": "markdown",
   "metadata": {},
   "source": [
    "# value\n",
    "\n",
    "#index"
   ]
  },
  {
   "cell_type": "code",
   "execution_count": 5,
   "metadata": {},
   "outputs": [
    {
     "name": "stdout",
     "output_type": "stream",
     "text": [
      "[100 200 100 400]\n",
      "RangeIndex(start=0, stop=4, step=1)\n"
     ]
    }
   ],
   "source": [
    "sales=pd.Series([100,200,100,400])\n",
    "print(sales.values)\n",
    "print(sales.index)"
   ]
  },
  {
   "cell_type": "code",
   "execution_count": 6,
   "metadata": {},
   "outputs": [
    {
     "name": "stdout",
     "output_type": "stream",
     "text": [
      "jan    100\n",
      "feb    200\n",
      "mar    100\n",
      "apr    400\n",
      "dtype: int64\n",
      "[100 200 100 400]\n",
      "Index(['jan', 'feb', 'mar', 'apr'], dtype='object')\n"
     ]
    }
   ],
   "source": [
    "sales=pd.Series([100,200,100,400],index=[\"jan\",\"feb\",\"mar\",\"apr\"])\n",
    "print(sales)\n",
    "print(sales.values)\n",
    "print(sales.index)"
   ]
  },
  {
   "cell_type": "markdown",
   "metadata": {},
   "source": [
    "# create a pandas series to store a canteen data to hold values of how many sandwitches are sold each day(one week)"
   ]
  },
  {
   "cell_type": "code",
   "execution_count": 14,
   "metadata": {},
   "outputs": [
    {
     "name": "stdout",
     "output_type": "stream",
     "text": [
      "mon     20\n",
      "tues    30\n",
      "wen     20\n",
      "thr     25\n",
      "fri     30\n",
      "sat     40\n",
      "sun      0\n",
      "dtype: int64\n"
     ]
    }
   ],
   "source": [
    "index=(\"mon\",\"tues\",\"wen\",\"thr\",\"fri\",\"sat\",\"sun\"))\n",
    "print(sw = pd.Series([20,30,20,25,30,40,0],   \n",
    "                sw)\n",
    "              \n",
    "    "
   ]
  },
  {
   "cell_type": "code",
   "execution_count": 15,
   "metadata": {},
   "outputs": [
    {
     "name": "stdout",
     "output_type": "stream",
     "text": [
      "30\n"
     ]
    }
   ],
   "source": [
    "print(sw[1])"
   ]
  },
  {
   "cell_type": "code",
   "execution_count": 16,
   "metadata": {},
   "outputs": [
    {
     "name": "stdout",
     "output_type": "stream",
     "text": [
      "30\n",
      "0\n"
     ]
    }
   ],
   "source": [
    "print(sw['tues'])\n",
    "print(sw['sun'])"
   ]
  },
  {
   "cell_type": "code",
   "execution_count": 10,
   "metadata": {},
   "outputs": [
    {
     "name": "stdout",
     "output_type": "stream",
     "text": [
      "thr    25\n",
      "sat    40\n",
      "dtype: int64\n",
      "thr    25\n",
      "sun     0\n",
      "dtype: int64\n"
     ]
    }
   ],
   "source": [
    "print(sw[ [3,5]])\n",
    "\n",
    "print(sw[ ['thr','sun']])"
   ]
  },
  {
   "cell_type": "code",
   "execution_count": 13,
   "metadata": {},
   "outputs": [
    {
     "name": "stdout",
     "output_type": "stream",
     "text": [
      "tues    30\n",
      "thr     25\n",
      "fri     30\n",
      "sat     40\n",
      "dtype: int64\n"
     ]
    }
   ],
   "source": [
    "print(sw[sw > 20])"
   ]
  },
  {
   "cell_type": "markdown",
   "metadata": {},
   "source": [
    "# multiplie kiya or multiplie wali value ko sw me save kiya"
   ]
  },
  {
   "cell_type": "code",
   "execution_count": 35,
   "metadata": {},
   "outputs": [
    {
     "name": "stdout",
     "output_type": "stream",
     "text": [
      "mon      5.0\n",
      "tues     7.5\n",
      "wen      5.0\n",
      "thr      6.0\n",
      "fri      7.5\n",
      "sat     10.0\n",
      "sun      0.0\n",
      "dtype: float64\n"
     ]
    }
   ],
   "source": [
    "sw * 2\n",
    "sw =sw * 2\n",
    "\n",
    "print(sw)"
   ]
  },
  {
   "cell_type": "code",
   "execution_count": 34,
   "metadata": {},
   "outputs": [
    {
     "data": {
      "text/plain": [
       "mon     2.50\n",
       "tues    3.75\n",
       "wen     2.50\n",
       "thr     3.00\n",
       "fri     3.75\n",
       "sat     5.00\n",
       "sun     0.00\n",
       "dtype: float64"
      ]
     },
     "execution_count": 34,
     "metadata": {},
     "output_type": "execute_result"
    }
   ],
   "source": [
    "sw"
   ]
  },
  {
   "cell_type": "markdown",
   "metadata": {},
   "source": [
    "# ab agar value dobara leyni hy to sw ko divide kare gain"
   ]
  },
  {
   "cell_type": "code",
   "execution_count": 37,
   "metadata": {},
   "outputs": [],
   "source": [
    "sw = sw/2 "
   ]
  },
  {
   "cell_type": "code",
   "execution_count": 38,
   "metadata": {},
   "outputs": [
    {
     "data": {
      "text/plain": [
       "mon     2.50\n",
       "tues    3.75\n",
       "wen     2.50\n",
       "thr     3.00\n",
       "fri     3.75\n",
       "sat     5.00\n",
       "sun     0.00\n",
       "dtype: float64"
      ]
     },
     "execution_count": 38,
     "metadata": {},
     "output_type": "execute_result"
    }
   ],
   "source": [
    "sw"
   ]
  },
  {
   "cell_type": "code",
   "execution_count": 39,
   "metadata": {},
   "outputs": [
    {
     "data": {
      "text/plain": [
       "True"
      ]
     },
     "execution_count": 39,
     "metadata": {},
     "output_type": "execute_result"
    }
   ],
   "source": [
    "'mon' in sw"
   ]
  },
  {
   "cell_type": "markdown",
   "metadata": {},
   "source": [
    "# valu or index ko ek jaga define kar sakte hain"
   ]
  },
  {
   "cell_type": "code",
   "execution_count": 49,
   "metadata": {},
   "outputs": [],
   "source": [
    "import numpy as np \n",
    "arr =np.array ([3,2,4,5,6])\n",
    "ind = np.array(['a','b','c','d','e'])"
   ]
  },
  {
   "cell_type": "code",
   "execution_count": 52,
   "metadata": {},
   "outputs": [
    {
     "name": "stdout",
     "output_type": "stream",
     "text": [
      "a    3\n",
      "b    2\n",
      "c    4\n",
      "d    5\n",
      "e    6\n",
      "dtype: int32\n"
     ]
    }
   ],
   "source": [
    "obj2 = pd.Series(arr, index = ind)\n",
    "print(obj2)"
   ]
  },
  {
   "cell_type": "markdown",
   "metadata": {},
   "source": [
    "# dicnaroy kiya karta hy k string value ko as index istemal karta hy "
   ]
  },
  {
   "cell_type": "markdown",
   "metadata": {},
   "source": [
    "# dictnary se data bhi le sakte hain"
   ]
  },
  {
   "cell_type": "code",
   "execution_count": 57,
   "metadata": {},
   "outputs": [
    {
     "name": "stdout",
     "output_type": "stream",
     "text": [
      "sindh          3500\n",
      "kpk            3600\n",
      "balochistan    3700\n",
      "panjab         3800\n",
      "dtype: int64\n",
      "Index(['sindh', 'kpk', 'balochistan', 'panjab'], dtype='object')\n"
     ]
    }
   ],
   "source": [
    "sdata = {'sindh':3500,'kpk':3600,'balochistan':3700,'panjab':3800}\n",
    "tax_by_state = pd.Series(sdata)\n",
    "print(tax_by_state)\n",
    "print(tax_by_state.index)"
   ]
  },
  {
   "cell_type": "code",
   "execution_count": 62,
   "metadata": {},
   "outputs": [
    {
     "name": "stdout",
     "output_type": "stream",
     "text": [
      "kpk            3600.0\n",
      "sindh          3500.0\n",
      "balochistan    3700.0\n",
      "punjab            NaN\n",
      "dtype: float64\n",
      "kpk            False\n",
      "sindh          False\n",
      "balochistan    False\n",
      "punjab          True\n",
      "dtype: bool\n"
     ]
    }
   ],
   "source": [
    "sdata = {'sindh':3500,'kpk':3600,'balochistan':3700,'panjab':38000}\n",
    "tax_by_state = pd.Series(sdata,index=['kpk','sindh','balochistan','punjab'])\n",
    "print(tax_by_state)\n",
    "print(pd.isnull(tax_by_state))"
   ]
  },
  {
   "cell_type": "code",
   "execution_count": null,
   "metadata": {},
   "outputs": [],
   "source": []
  },
  {
   "cell_type": "markdown",
   "metadata": {},
   "source": [
    "**sorce for series data**\n",
    "*direct data in series method\n",
    "*from dictonary\n",
    "*from numpy array or list "
   ]
  },
  {
   "cell_type": "markdown",
   "metadata": {},
   "source": [
    "# null value jo value zero k baraber bhi nahi hoti"
   ]
  },
  {
   "cell_type": "code",
   "execution_count": 65,
   "metadata": {},
   "outputs": [
    {
     "name": "stdout",
     "output_type": "stream",
     "text": [
      "mon    20\n",
      "tue    30\n",
      "wen    20\n",
      "tus    25\n",
      "fri    30\n",
      "sat    40\n",
      "sun     0\n",
      "dtype: int64\n",
      "m    20\n",
      "t    30\n",
      "w    20\n",
      "t    25\n",
      "f    30\n",
      "s    40\n",
      "s     0\n",
      "dtype: int64\n"
     ]
    }
   ],
   "source": [
    "sw = pd.Series([20,30,20,25,30,40,0],\n",
    "              index = ['mon','tue','wen','tus','fri','sat','sun'])\n",
    "print(sw)\n",
    "sw.index = ['m','t','w','t','f','s','s']\n",
    "print(sw)"
   ]
  },
  {
   "cell_type": "code",
   "execution_count": null,
   "metadata": {},
   "outputs": [],
   "source": []
  }
 ],
 "metadata": {
  "kernelspec": {
   "display_name": "Python 3",
   "language": "python",
   "name": "python3"
  },
  "language_info": {
   "codemirror_mode": {
    "name": "ipython",
    "version": 3
   },
   "file_extension": ".py",
   "mimetype": "text/x-python",
   "name": "python",
   "nbconvert_exporter": "python",
   "pygments_lexer": "ipython3",
   "version": "3.7.4"
  }
 },
 "nbformat": 4,
 "nbformat_minor": 2
}
